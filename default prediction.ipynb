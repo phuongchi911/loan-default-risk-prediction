{
 "cells": [
  {
   "cell_type": "markdown",
   "metadata": {},
   "source": [
    "# Loan Default Risk Prediction – Real Dataset (GMSC)\n",
    "\n",
    "This notebook uses the real-world 'Give Me Some Credit' dataset to predict the risk of loan default using machine learning models such as Logistic Regression, Random Forest, and XGBoost."
   ]
  },
  {
   "cell_type": "code",
   "execution_count": null,
   "metadata": {},
   "outputs": [],
   "source": [
    "# Import libraries\n",
    "import pandas as pd\n",
    "import numpy as np\n",
    "import matplotlib.pyplot as plt\n",
    "import seaborn as sns\n",
    "from sklearn.model_selection import train_test_split\n",
    "from sklearn.preprocessing import StandardScaler\n",
    "from sklearn.metrics import classification_report, confusion_matrix, roc_auc_score, roc_curve\n",
    "from xgboost import XGBClassifier\n",
    "sns.set(style=\"whitegrid\")"
   ]
  },
  {
   "cell_type": "code",
   "execution_count": null,
   "metadata": {},
   "outputs": [],
   "source": [
    "# Load the dataset\n",
    "df = pd.read_csv(\"data/gmsc.csv\")\n",
    "df.columns = df.columns.str.strip()\n",
    "df.drop(columns=[df.columns[0]], inplace=True)\n",
    "df.rename(columns={\"SeriousDlqin2yrs\": \"default\"}, inplace=True)\n",
    "df['MonthlyIncome'].fillna(df['MonthlyIncome'].median(), inplace=True)\n",
    "df['NumberOfDependents'].fillna(0, inplace=True)\n",
    "df.head()"
   ]
  },
  {
   "cell_type": "code",
   "execution_count": null,
   "metadata": {},
   "outputs": [],
   "source": [
    "# Feature engineering\n",
    "df['debt_ratio_income'] = df['DebtRatio'] * df['MonthlyIncome']\n",
    "df['loan_to_income'] = df['RevolvingUtilizationOfUnsecuredLines'] * df['MonthlyIncome']\n",
    "df['log_income'] = np.log1p(df['MonthlyIncome'])\n",
    "df['log_debt'] = np.log1p(df['debt_ratio_income'])"
   ]
  },
  {
   "cell_type": "code",
   "execution_count": null,
   "metadata": {},
   "outputs": [],
   "source": [
    "# Prepare data for training\n",
    "X = df.drop(\"default\", axis=1)\n",
    "y = df[\"default\"]\n",
    "X_train, X_test, y_train, y_test = train_test_split(X, y, test_size=0.3, random_state=42, stratify=y)\n",
    "scaler = StandardScaler()\n",
    "X_train_scaled = scaler.fit_transform(X_train)\n",
    "X_test_scaled = scaler.transform(X_test)"
   ]
  },
  {
   "cell_type": "code",
   "execution_count": null,
   "metadata": {},
   "outputs": [],
   "source": [
    "# Train XGBoost model\n",
    "xgb = XGBClassifier(use_label_encoder=False, eval_metric='logloss', random_state=42)\n",
    "xgb.fit(X_train_scaled, y_train)\n",
    "y_pred_xgb = xgb.predict(X_test_scaled)\n",
    "y_probs_xgb = xgb.predict_proba(X_test_scaled)[:, 1]\n",
    "print(\"Classification Report:\\n\", classification_report(y_test, y_pred_xgb))\n",
    "print(\"Confusion Matrix:\\n\", confusion_matrix(y_test, y_pred_xgb))\n",
    "print(\"ROC-AUC Score:\", roc_auc_score(y_test, y_probs_xgb))"
   ]
  },
  {
   "cell_type": "code",
   "execution_count": null,
   "metadata": {},
   "outputs": [],
   "source": [
    "# Plot ROC curve\n",
    "fpr, tpr, _ = roc_curve(y_test, y_probs_xgb)\n",
    "plt.plot(fpr, tpr, label=f'XGBoost AUC = {roc_auc_score(y_test, y_probs_xgb):.2f}')\n",
    "plt.plot([0, 1], [0, 1], 'k--')\n",
    "plt.xlabel('False Positive Rate')\n",
    "plt.ylabel('True Positive Rate')\n",
    "plt.title('ROC Curve')\n",
    "plt.legend()\n",
    "plt.show()"
   ]
  },
  {
   "cell_type": "markdown",
   "metadata": {},
   "source": [
    "## ✅ Conclusion\n",
    "- XGBoost performed well on the GMSC dataset.\n",
    "- The ROC-AUC score is a reliable indicator of classification performance.\n",
    "- Further improvements could include SHAP values and hyperparameter tuning."
   ]
  },
  {
   "cell_type": "markdown",
   "metadata": {},
   "source": [
    "## 🧠 SHAP Values – Model Explainability\n",
    "We use SHAP (SHapley Additive exPlanations) to interpret which features influence XGBoost predictions the most."
   ]
  },
  {
   "cell_type": "markdown",
   "metadata": {},
   "source": [
    "## 🤖 Model Comparison: Logistic Regression vs Random Forest vs XGBoost\n",
    "We will now compare three models side-by-side using classification metrics and ROC-AUC."
   ]
  },
  {
   "cell_type": "code",
   "execution_count": null,
   "metadata": {},
   "outputs": [],
   "source": [
    "from sklearn.linear_model import LogisticRegression\n",
    "from sklearn.ensemble import RandomForestClassifier\n",
    "\n",
    "# Train Logistic Regression\n",
    "lr = LogisticRegression(max_iter=1000, random_state=42)\n",
    "lr.fit(X_train_scaled, y_train)\n",
    "y_probs_lr = lr.predict_proba(X_test_scaled)[:, 1]\n",
    "y_pred_lr = lr.predict(X_test_scaled)\n",
    "\n",
    "# Train Random Forest\n",
    "rf = RandomForestClassifier(n_estimators=100, random_state=42)\n",
    "rf.fit(X_train_scaled, y_train)\n",
    "y_probs_rf = rf.predict_proba(X_test_scaled)[:, 1]\n",
    "y_pred_rf = rf.predict(X_test_scaled)"
   ]
  },
  {
   "cell_type": "code",
   "execution_count": null,
   "metadata": {},
   "outputs": [],
   "source": [
    "# Compare classification reports\n",
    "print(\"Logistic Regression Report:\\n\", classification_report(y_test, y_pred_lr))\n",
    "print(\"Random Forest Report:\\n\", classification_report(y_test, y_pred_rf))"
   ]
  },
  {
   "cell_type": "code",
   "execution_count": null,
   "metadata": {},
   "outputs": [],
   "source": [
    "# Plot ROC curves\n",
    "fpr_lr, tpr_lr, _ = roc_curve(y_test, y_probs_lr)\n",
    "fpr_rf, tpr_rf, _ = roc_curve(y_test, y_probs_rf)\n",
    "fpr_xgb, tpr_xgb, _ = roc_curve(y_test, y_probs_xgb)\n",
    "\n",
    "plt.figure(figsize=(8, 6))\n",
    "plt.plot(fpr_lr, tpr_lr, label=f'LogReg AUC = {roc_auc_score(y_test, y_probs_lr):.2f}')\n",
    "plt.plot(fpr_rf, tpr_rf, label=f'RandomForest AUC = {roc_auc_score(y_test, y_probs_rf):.2f}')\n",
    "plt.plot(fpr_xgb, tpr_xgb, label=f'XGBoost AUC = {roc_auc_score(y_test, y_probs_xgb):.2f}')\n",
    "plt.plot([0, 1], [0, 1], 'k--')\n",
    "plt.xlabel('False Positive Rate')\n",
    "plt.ylabel('True Positive Rate')\n",
    "plt.title('ROC Curve Comparison')\n",
    "plt.legend()\n",
    "plt.grid()\n",
    "plt.show()"
   ]
  },
  {
   "cell_type": "code",
   "execution_count": null,
   "metadata": {},
   "outputs": [],
   "source": [
    "import shap\n",
    "explainer = shap.Explainer(xgb, X_test_scaled)\n",
    "shap_values = explainer(X_test_scaled)\n",
    "\n",
    "# Summary plot\n",
    "shap.summary_plot(shap_values, X_test, max_display=10)"
   ]
  },
  {
   "cell_type": "code",
   "execution_count": 3,
   "metadata": {},
   "outputs": [
    {
     "name": "stdout",
     "output_type": "stream",
     "text": [
      "/Users/phuongchi/anaconda3/lib/python3.7/site-packages/cryptography/hazmat/backends/openssl/x509.py:18: CryptographyDeprecationWarning: This version of cryptography contains a temporary pyOpenSSL fallback path. Upgrade pyOpenSSL now.\n",
      "  utils.DeprecatedIn35,\n",
      "Collecting numba\n",
      "\u001b[?25l  Downloading https://files.pythonhosted.org/packages/a9/28/2babef91a7c2f84718d8c47ecd89216913cf9e130d302208c3cfd0d17122/numba-0.56.4-cp37-cp37m-macosx_10_14_x86_64.whl (2.4MB)\n",
      "\u001b[K     |████████████████████████████████| 2.4MB 5.8MB/s eta 0:00:01\n",
      "\u001b[?25hRequirement already satisfied, skipping upgrade: importlib-metadata; python_version < \"3.9\" in /Users/phuongchi/anaconda3/lib/python3.7/site-packages (from numba) (4.8.1)\n",
      "Requirement already satisfied, skipping upgrade: setuptools in /Users/phuongchi/anaconda3/lib/python3.7/site-packages (from numba) (41.0.1)\n",
      "Collecting numpy<1.24,>=1.18 (from numba)\n",
      "\u001b[?25l  Downloading https://files.pythonhosted.org/packages/32/dd/43d8b2b2ebf424f6555271a4c9f5b50dc3cc0aafa66c72b4d36863f71358/numpy-1.21.6-cp37-cp37m-macosx_10_9_x86_64.whl (16.9MB)\n",
      "\u001b[K     |████████████████████████████████| 16.9MB 80.4MB/s eta 0:00:01\n",
      "\u001b[?25hCollecting llvmlite<0.40,>=0.39.0dev0 (from numba)\n",
      "\u001b[?25l  Downloading https://files.pythonhosted.org/packages/07/31/a5f5f578a2b19938e1bb91dcd79bd436557baf582dde23845cb0e76a2241/llvmlite-0.39.1-cp37-cp37m-macosx_10_9_x86_64.whl (25.5MB)\n",
      "\u001b[K     |████████████████████████████████| 25.5MB 113.1MB/s eta 0:00:01\n",
      "\u001b[?25hRequirement already satisfied, skipping upgrade: zipp>=0.5 in /Users/phuongchi/anaconda3/lib/python3.7/site-packages (from importlib-metadata; python_version < \"3.9\"->numba) (3.6.0)\n",
      "Requirement already satisfied, skipping upgrade: typing-extensions>=3.6.4; python_version < \"3.8\" in /Users/phuongchi/anaconda3/lib/python3.7/site-packages (from importlib-metadata; python_version < \"3.9\"->numba) (3.10.0.2)\n",
      "\u001b[31mERROR: keras-segmentation 0.3.0 has requirement imgaug==0.2.9, but you'll have imgaug 0.4.0 which is incompatible.\u001b[0m\n",
      "Installing collected packages: numpy, llvmlite, numba\n",
      "  Found existing installation: numpy 1.16.4\n",
      "    Uninstalling numpy-1.16.4:\n",
      "      Successfully uninstalled numpy-1.16.4\n",
      "  Found existing installation: llvmlite 0.29.0\n",
      "\u001b[31mERROR: Cannot uninstall 'llvmlite'. It is a distutils installed project and thus we cannot accurately determine which files belong to it which would lead to only a partial uninstall.\u001b[0m\n",
      "Note: you may need to restart the kernel to use updated packages.\n"
     ]
    }
   ],
   "source": [
    "pip install --upgrade numba"
   ]
  },
  {
   "cell_type": "code",
   "execution_count": 1,
   "metadata": {},
   "outputs": [
    {
     "name": "stdout",
     "output_type": "stream",
     "text": [
      "Requirement already satisfied: llvmlite in /Users/phuongchi/anaconda3/lib/python3.7/site-packages (0.29.0)\n",
      "Note: you may need to restart the kernel to use updated packages.\n"
     ]
    }
   ],
   "source": [
    "pip install llvmlite"
   ]
  },
  {
   "cell_type": "code",
   "execution_count": 1,
   "metadata": {},
   "outputs": [
    {
     "name": "stdout",
     "output_type": "stream",
     "text": [
      "Collecting numba==0.54.1\n",
      "/Users/phuongchi/anaconda3/lib/python3.7/site-packages/cryptography/hazmat/backends/openssl/x509.py:18: CryptographyDeprecationWarning: This version of cryptography contains a temporary pyOpenSSL fallback path. Upgrade pyOpenSSL now.\n",
      "  utils.DeprecatedIn35,\n",
      "\u001b[?25l  Downloading https://files.pythonhosted.org/packages/4a/37/a5abd4836daf439e7eb99958671ab8a9187f8293e019c23c684c1502fb7f/numba-0.54.1-cp37-cp37m-macosx_10_14_x86_64.whl (2.3MB)\n",
      "\u001b[K     |████████████████████████████████| 2.3MB 4.7MB/s eta 0:00:01\n",
      "\u001b[?25hCollecting numpy<1.21,>=1.17 (from numba==0.54.1)\n",
      "\u001b[?25l  Downloading https://files.pythonhosted.org/packages/b6/50/ecda32e07ec70235a828dcd8ec32395ef7772120ccbe5a73df9cc3db1090/numpy-1.20.3-cp37-cp37m-macosx_10_9_x86_64.whl (16.0MB)\n",
      "\u001b[K     |████████████████████████████████| 16.0MB 38.0MB/s eta 0:00:01\n",
      "\u001b[?25hCollecting llvmlite<0.38,>=0.37.0rc1 (from numba==0.54.1)\n",
      "\u001b[?25l  Downloading https://files.pythonhosted.org/packages/87/e4/d63c2360e8e14437a5002822d9e53ab6f2043cc6ae9ea4a6689fbd726fda/llvmlite-0.37.0-cp37-cp37m-macosx_10_9_x86_64.whl (19.1MB)\n",
      "\u001b[K     |████████████████████████████████| 19.1MB 557kB/s eta 0:00:01\n",
      "\u001b[?25hRequirement already satisfied: setuptools in /Users/phuongchi/anaconda3/lib/python3.7/site-packages (from numba==0.54.1) (41.0.1)\n",
      "\u001b[31mERROR: keras-segmentation 0.3.0 has requirement imgaug==0.2.9, but you'll have imgaug 0.4.0 which is incompatible.\u001b[0m\n",
      "Installing collected packages: numpy, llvmlite, numba\n",
      "  Found existing installation: numpy 1.21.6\n",
      "    Uninstalling numpy-1.21.6:\n",
      "      Successfully uninstalled numpy-1.21.6\n",
      "  Found existing installation: llvmlite 0.29.0\n",
      "\u001b[31mERROR: Cannot uninstall 'llvmlite'. It is a distutils installed project and thus we cannot accurately determine which files belong to it which would lead to only a partial uninstall.\u001b[0m\n",
      "Note: you may need to restart the kernel to use updated packages.\n"
     ]
    }
   ],
   "source": [
    "pip install numba==0.54.1"
   ]
  },
  {
   "cell_type": "markdown",
   "metadata": {},
   "source": [
    "## ✅ Final Conclusion\n",
    "- The XGBoost model achieved strong ROC-AUC performance on a realistic dataset.\n",
    "- Feature engineering (log income, debt ratio) and stratified sampling helped improve model training.\n",
    "- SHAP values reveal that credit delinquencies, debt ratios, and income are key drivers of default risk.\n",
    "- This project demonstrates a practical end-to-end credit risk pipeline using real-world data and explainable ML."
   ]
  },
  {
   "cell_type": "code",
   "execution_count": null,
   "metadata": {},
   "outputs": [],
   "source": []
  }
 ],
 "metadata": {
  "kernelspec": {
   "display_name": "Python 3",
   "language": "python",
   "name": "python3"
  },
  "language_info": {
   "codemirror_mode": {
    "name": "ipython",
    "version": 3
   },
   "file_extension": ".py",
   "mimetype": "text/x-python",
   "name": "python",
   "nbconvert_exporter": "python",
   "pygments_lexer": "ipython3",
   "version": "3.7.3"
  }
 },
 "nbformat": 4,
 "nbformat_minor": 2
}
